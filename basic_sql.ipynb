{
  "nbformat": 4,
  "nbformat_minor": 0,
  "metadata": {
    "colab": {
      "provenance": [],
      "include_colab_link": true
    },
    "kernelspec": {
      "name": "python3",
      "display_name": "Python 3"
    },
    "language_info": {
      "name": "python"
    }
  },
  "cells": [
    {
      "cell_type": "markdown",
      "metadata": {
        "id": "view-in-github",
        "colab_type": "text"
      },
      "source": [
        "<a href=\"https://colab.research.google.com/github/anjanidwilestari/BigData_2023/blob/main/basic_sql.ipynb\" target=\"_parent\"><img src=\"https://colab.research.google.com/assets/colab-badge.svg\" alt=\"Open In Colab\"/></a>"
      ]
    },
    {
      "cell_type": "markdown",
      "source": [
        "###Spark SQL"
      ],
      "metadata": {
        "id": "6770i9Csg1iI"
      }
    },
    {
      "cell_type": "code",
      "source": [
        "!pip install pyspark"
      ],
      "metadata": {
        "colab": {
          "base_uri": "https://localhost:8080/"
        },
        "id": "2YXEOz7dhcJs",
        "outputId": "b4d336da-e710-4d8d-d4b7-772a3dfe83bb"
      },
      "execution_count": null,
      "outputs": [
        {
          "output_type": "stream",
          "name": "stdout",
          "text": [
            "Looking in indexes: https://pypi.org/simple, https://us-python.pkg.dev/colab-wheels/public/simple/\n",
            "Collecting pyspark\n",
            "  Downloading pyspark-3.4.0.tar.gz (310.8 MB)\n",
            "\u001b[2K     \u001b[90m━━━━━━━━━━━━━━━━━━━━━━━━━━━━━━━━━━━━━━━\u001b[0m \u001b[32m310.8/310.8 MB\u001b[0m \u001b[31m2.5 MB/s\u001b[0m eta \u001b[36m0:00:00\u001b[0m\n",
            "\u001b[?25h  Preparing metadata (setup.py) ... \u001b[?25l\u001b[?25hdone\n",
            "Requirement already satisfied: py4j==0.10.9.7 in /usr/local/lib/python3.10/dist-packages (from pyspark) (0.10.9.7)\n",
            "Building wheels for collected packages: pyspark\n",
            "  Building wheel for pyspark (setup.py) ... \u001b[?25l\u001b[?25hdone\n",
            "  Created wheel for pyspark: filename=pyspark-3.4.0-py2.py3-none-any.whl size=311317130 sha256=3f71bce62a1bc5633ae54e8a929c053b95d4aa11dd2dd3c6c013c5d93c475b70\n",
            "  Stored in directory: /root/.cache/pip/wheels/7b/1b/4b/3363a1d04368e7ff0d408e57ff57966fcdf00583774e761327\n",
            "Successfully built pyspark\n",
            "Installing collected packages: pyspark\n",
            "Successfully installed pyspark-3.4.0\n"
          ]
        }
      ]
    },
    {
      "cell_type": "code",
      "execution_count": null,
      "metadata": {
        "id": "fM_UqsmtgroF"
      },
      "outputs": [],
      "source": [
        "from pyspark.sql import SparkSession"
      ]
    },
    {
      "cell_type": "code",
      "source": [
        "spark = SparkSession.builder.getOrCreate()"
      ],
      "metadata": {
        "id": "IhDoYonchHcY"
      },
      "execution_count": null,
      "outputs": []
    },
    {
      "cell_type": "code",
      "source": [
        "df = spark.read.json(\"iris.json\")"
      ],
      "metadata": {
        "id": "3tG1rydkioGx"
      },
      "execution_count": null,
      "outputs": []
    },
    {
      "cell_type": "code",
      "source": [
        "df.show()"
      ],
      "metadata": {
        "id": "VWyiPsOii05e",
        "colab": {
          "base_uri": "https://localhost:8080/"
        },
        "outputId": "0d80a856-f1cb-4c06-c5c2-7cc440b2333d"
      },
      "execution_count": null,
      "outputs": [
        {
          "output_type": "stream",
          "name": "stdout",
          "text": [
            "+---------------+-----------+----------+-----------+----------+-------+\n",
            "|_corrupt_record|petalLength|petalWidth|sepalLength|sepalWidth|species|\n",
            "+---------------+-----------+----------+-----------+----------+-------+\n",
            "|              [|       null|      null|       null|      null|   null|\n",
            "|           null|        1.4|       0.2|        5.1|       3.5| setosa|\n",
            "|           null|        1.4|       0.2|        4.9|       3.0| setosa|\n",
            "|           null|        1.3|       0.2|        4.7|       3.2| setosa|\n",
            "|           null|        1.5|       0.2|        4.6|       3.1| setosa|\n",
            "|           null|        1.4|       0.2|        5.0|       3.6| setosa|\n",
            "|           null|        1.7|       0.4|        5.4|       3.9| setosa|\n",
            "|           null|        1.4|       0.3|        4.6|       3.4| setosa|\n",
            "|           null|        1.5|       0.2|        5.0|       3.4| setosa|\n",
            "|           null|        1.4|       0.2|        4.4|       2.9| setosa|\n",
            "|           null|        1.5|       0.1|        4.9|       3.1| setosa|\n",
            "|           null|        1.5|       0.2|        5.4|       3.7| setosa|\n",
            "|           null|        1.6|       0.2|        4.8|       3.4| setosa|\n",
            "|           null|        1.4|       0.1|        4.8|       3.0| setosa|\n",
            "|           null|        1.1|       0.1|        4.3|       3.0| setosa|\n",
            "|           null|        1.2|       0.2|        5.8|       4.0| setosa|\n",
            "|           null|        1.5|       0.4|        5.7|       4.4| setosa|\n",
            "|           null|        1.3|       0.4|        5.4|       3.9| setosa|\n",
            "|           null|        1.4|       0.3|        5.1|       3.5| setosa|\n",
            "|           null|        1.7|       0.3|        5.7|       3.8| setosa|\n",
            "+---------------+-----------+----------+-----------+----------+-------+\n",
            "only showing top 20 rows\n",
            "\n"
          ]
        }
      ]
    },
    {
      "cell_type": "code",
      "source": [
        "df.printSchema()"
      ],
      "metadata": {
        "colab": {
          "base_uri": "https://localhost:8080/"
        },
        "id": "APicA8jmxV8y",
        "outputId": "becc3743-62ce-41f2-b028-a6101341e2b3"
      },
      "execution_count": null,
      "outputs": [
        {
          "output_type": "stream",
          "name": "stdout",
          "text": [
            "root\n",
            " |-- _corrupt_record: string (nullable = true)\n",
            " |-- petalLength: double (nullable = true)\n",
            " |-- petalWidth: double (nullable = true)\n",
            " |-- sepalLength: double (nullable = true)\n",
            " |-- sepalWidth: double (nullable = true)\n",
            " |-- species: string (nullable = true)\n",
            "\n"
          ]
        }
      ]
    },
    {
      "cell_type": "code",
      "source": [
        "df.createOrReplaceTempView(\"df\")"
      ],
      "metadata": {
        "id": "55PTEouWxqir"
      },
      "execution_count": null,
      "outputs": []
    },
    {
      "cell_type": "code",
      "source": [
        "spark.sql(\"select * from df\").show()"
      ],
      "metadata": {
        "colab": {
          "base_uri": "https://localhost:8080/"
        },
        "id": "0Zt5zaPDxjMD",
        "outputId": "487dff16-bf15-490b-ae27-4425cd327bb3"
      },
      "execution_count": null,
      "outputs": [
        {
          "output_type": "stream",
          "name": "stdout",
          "text": [
            "+---------------+-----------+----------+-----------+----------+-------+\n",
            "|_corrupt_record|petalLength|petalWidth|sepalLength|sepalWidth|species|\n",
            "+---------------+-----------+----------+-----------+----------+-------+\n",
            "|              [|       null|      null|       null|      null|   null|\n",
            "|           null|        1.4|       0.2|        5.1|       3.5| setosa|\n",
            "|           null|        1.4|       0.2|        4.9|       3.0| setosa|\n",
            "|           null|        1.3|       0.2|        4.7|       3.2| setosa|\n",
            "|           null|        1.5|       0.2|        4.6|       3.1| setosa|\n",
            "|           null|        1.4|       0.2|        5.0|       3.6| setosa|\n",
            "|           null|        1.7|       0.4|        5.4|       3.9| setosa|\n",
            "|           null|        1.4|       0.3|        4.6|       3.4| setosa|\n",
            "|           null|        1.5|       0.2|        5.0|       3.4| setosa|\n",
            "|           null|        1.4|       0.2|        4.4|       2.9| setosa|\n",
            "|           null|        1.5|       0.1|        4.9|       3.1| setosa|\n",
            "|           null|        1.5|       0.2|        5.4|       3.7| setosa|\n",
            "|           null|        1.6|       0.2|        4.8|       3.4| setosa|\n",
            "|           null|        1.4|       0.1|        4.8|       3.0| setosa|\n",
            "|           null|        1.1|       0.1|        4.3|       3.0| setosa|\n",
            "|           null|        1.2|       0.2|        5.8|       4.0| setosa|\n",
            "|           null|        1.5|       0.4|        5.7|       4.4| setosa|\n",
            "|           null|        1.3|       0.4|        5.4|       3.9| setosa|\n",
            "|           null|        1.4|       0.3|        5.1|       3.5| setosa|\n",
            "|           null|        1.7|       0.3|        5.7|       3.8| setosa|\n",
            "+---------------+-----------+----------+-----------+----------+-------+\n",
            "only showing top 20 rows\n",
            "\n"
          ]
        }
      ]
    },
    {
      "cell_type": "code",
      "source": [
        "spark.sql(\"select count(species) from df\").show()"
      ],
      "metadata": {
        "colab": {
          "base_uri": "https://localhost:8080/"
        },
        "id": "etZl03lpx-Qz",
        "outputId": "de7d4740-0ea6-4795-944a-764db37a23f9"
      },
      "execution_count": null,
      "outputs": [
        {
          "output_type": "stream",
          "name": "stdout",
          "text": [
            "+--------------+\n",
            "|count(species)|\n",
            "+--------------+\n",
            "|           150|\n",
            "+--------------+\n",
            "\n"
          ]
        }
      ]
    },
    {
      "cell_type": "code",
      "source": [
        "spark.sql(\"select species from df where sepalLength=5.1\").show()"
      ],
      "metadata": {
        "colab": {
          "base_uri": "https://localhost:8080/"
        },
        "id": "8viI2Y562GKQ",
        "outputId": "c3c5bb27-6bcf-4d34-9513-2fdd00fb51b5"
      },
      "execution_count": null,
      "outputs": [
        {
          "output_type": "stream",
          "name": "stdout",
          "text": [
            "+----------+\n",
            "|   species|\n",
            "+----------+\n",
            "|    setosa|\n",
            "|    setosa|\n",
            "|    setosa|\n",
            "|    setosa|\n",
            "|    setosa|\n",
            "|    setosa|\n",
            "|    setosa|\n",
            "|    setosa|\n",
            "|versicolor|\n",
            "+----------+\n",
            "\n"
          ]
        }
      ]
    },
    {
      "cell_type": "code",
      "source": [
        "sqlDf = spark.sql(\"select * from df\")"
      ],
      "metadata": {
        "id": "loQbHHFj3F2u"
      },
      "execution_count": null,
      "outputs": []
    },
    {
      "cell_type": "code",
      "source": [
        "sqlDf.show()"
      ],
      "metadata": {
        "id": "KvMSwsbR3f7W",
        "outputId": "628966df-8e86-4738-f2a7-138e73ace171",
        "colab": {
          "base_uri": "https://localhost:8080/"
        }
      },
      "execution_count": null,
      "outputs": [
        {
          "output_type": "stream",
          "name": "stdout",
          "text": [
            "+---------------+-----------+----------+-----------+----------+-------+\n",
            "|_corrupt_record|petalLength|petalWidth|sepalLength|sepalWidth|species|\n",
            "+---------------+-----------+----------+-----------+----------+-------+\n",
            "|              [|       null|      null|       null|      null|   null|\n",
            "|           null|        1.4|       0.2|        5.1|       3.5| setosa|\n",
            "|           null|        1.4|       0.2|        4.9|       3.0| setosa|\n",
            "|           null|        1.3|       0.2|        4.7|       3.2| setosa|\n",
            "|           null|        1.5|       0.2|        4.6|       3.1| setosa|\n",
            "|           null|        1.4|       0.2|        5.0|       3.6| setosa|\n",
            "|           null|        1.7|       0.4|        5.4|       3.9| setosa|\n",
            "|           null|        1.4|       0.3|        4.6|       3.4| setosa|\n",
            "|           null|        1.5|       0.2|        5.0|       3.4| setosa|\n",
            "|           null|        1.4|       0.2|        4.4|       2.9| setosa|\n",
            "|           null|        1.5|       0.1|        4.9|       3.1| setosa|\n",
            "|           null|        1.5|       0.2|        5.4|       3.7| setosa|\n",
            "|           null|        1.6|       0.2|        4.8|       3.4| setosa|\n",
            "|           null|        1.4|       0.1|        4.8|       3.0| setosa|\n",
            "|           null|        1.1|       0.1|        4.3|       3.0| setosa|\n",
            "|           null|        1.2|       0.2|        5.8|       4.0| setosa|\n",
            "|           null|        1.5|       0.4|        5.7|       4.4| setosa|\n",
            "|           null|        1.3|       0.4|        5.4|       3.9| setosa|\n",
            "|           null|        1.4|       0.3|        5.1|       3.5| setosa|\n",
            "|           null|        1.7|       0.3|        5.7|       3.8| setosa|\n",
            "+---------------+-----------+----------+-----------+----------+-------+\n",
            "only showing top 20 rows\n",
            "\n"
          ]
        }
      ]
    }
  ]
}